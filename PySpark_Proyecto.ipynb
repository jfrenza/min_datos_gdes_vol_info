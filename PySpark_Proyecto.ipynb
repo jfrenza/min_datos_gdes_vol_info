{
 "cells": [
  {
   "cell_type": "code",
   "execution_count": 2,
   "metadata": {},
   "outputs": [
    {
     "name": "stdout",
     "output_type": "stream",
     "text": [
      "energy-data/power-laws-forecasting-energy-consumption-holidays.csv\n",
      "energy-data/power-laws-forecasting-energy-consumption-metadata.csv\n",
      "energy-data/power-laws-forecasting-energy-consumption-submission-forecast-period.csv\n",
      "energy-data/power-laws-forecasting-energy-consumption-test-data.csv\n",
      "energy-data/power-laws-forecasting-energy-consumption-training-data.csv\n",
      "energy-data/power-laws-forecasting-energy-consumption-weather.csv\n"
     ]
    }
   ],
   "source": [
    "from project import data_frames\n",
    "\n",
    "for key, values in data_frames.items():\n",
    "    print(key)"
   ]
  },
  {
   "cell_type": "markdown",
   "metadata": {},
   "source": [
    "# Proyecto Minería\n"
   ]
  },
  {
   "cell_type": "markdown",
   "metadata": {},
   "source": [
    "# Clustering"
   ]
  },
  {
   "cell_type": "code",
   "execution_count": 36,
   "metadata": {},
   "outputs": [
    {
     "name": "stdout",
     "output_type": "stream",
     "text": [
      "Requirement already satisfied: pyspark in /usr/local/python/3.10.8/lib/python3.10/site-packages (3.5.0)\n",
      "Requirement already satisfied: py4j==0.10.9.7 in /usr/local/python/3.10.8/lib/python3.10/site-packages (from pyspark) (0.10.9.7)\n",
      "Selecting previously unselected package java-common.\n",
      "(Reading database ... 68308 files and directories currently installed.)\n",
      "Preparing to unpack .../0-java-common_0.72_all.deb ...\n",
      "Unpacking java-common (0.72) ...\n",
      "Selecting previously unselected package libpcsclite1:amd64.\n",
      "Preparing to unpack .../1-libpcsclite1_1.8.26-3_amd64.deb ...\n",
      "Unpacking libpcsclite1:amd64 (1.8.26-3) ...\n",
      "Selecting previously unselected package libxtst6:amd64.\n",
      "Preparing to unpack .../2-libxtst6_2%3a1.2.3-1_amd64.deb ...\n",
      "Unpacking libxtst6:amd64 (2:1.2.3-1) ...\n",
      "Selecting previously unselected package openjdk-8-jre-headless:amd64.\n",
      "Preparing to unpack .../3-openjdk-8-jre-headless_8u382-ga-1~20.04.1_amd64.deb ...\n",
      "Unpacking openjdk-8-jre-headless:amd64 (8u382-ga-1~20.04.1) ...\n",
      "Selecting previously unselected package ca-certificates-java.\n",
      "Preparing to unpack .../4-ca-certificates-java_20190405ubuntu1.1_all.deb ...\n",
      "Unpacking ca-certificates-java (20190405ubuntu1.1) ...\n",
      "Selecting previously unselected package openjdk-8-jdk-headless:amd64.\n",
      "Preparing to unpack .../5-openjdk-8-jdk-headless_8u382-ga-1~20.04.1_amd64.deb ...\n",
      "Unpacking openjdk-8-jdk-headless:amd64 (8u382-ga-1~20.04.1) ...\n",
      "Setting up java-common (0.72) ...\n",
      "Setting up libxtst6:amd64 (2:1.2.3-1) ...\n",
      "Setting up libpcsclite1:amd64 (1.8.26-3) ...\n",
      "Setting up openjdk-8-jre-headless:amd64 (8u382-ga-1~20.04.1) ...\n",
      "update-alternatives: using /usr/lib/jvm/java-8-openjdk-amd64/jre/bin/rmid to provide /usr/bin/rmid (rmid) in auto mode\n",
      "update-alternatives: using /usr/lib/jvm/java-8-openjdk-amd64/jre/bin/java to provide /usr/bin/java (java) in auto mode\n",
      "update-alternatives: using /usr/lib/jvm/java-8-openjdk-amd64/jre/bin/keytool to provide /usr/bin/keytool (keytool) in auto mode\n",
      "update-alternatives: using /usr/lib/jvm/java-8-openjdk-amd64/jre/bin/jjs to provide /usr/bin/jjs (jjs) in auto mode\n",
      "update-alternatives: using /usr/lib/jvm/java-8-openjdk-amd64/jre/bin/pack200 to provide /usr/bin/pack200 (pack200) in auto mode\n",
      "update-alternatives: using /usr/lib/jvm/java-8-openjdk-amd64/jre/bin/rmiregistry to provide /usr/bin/rmiregistry (rmiregistry) in auto mode\n",
      "update-alternatives: using /usr/lib/jvm/java-8-openjdk-amd64/jre/bin/unpack200 to provide /usr/bin/unpack200 (unpack200) in auto mode\n",
      "update-alternatives: using /usr/lib/jvm/java-8-openjdk-amd64/jre/bin/orbd to provide /usr/bin/orbd (orbd) in auto mode\n",
      "update-alternatives: using /usr/lib/jvm/java-8-openjdk-amd64/jre/bin/servertool to provide /usr/bin/servertool (servertool) in auto mode\n",
      "update-alternatives: using /usr/lib/jvm/java-8-openjdk-amd64/jre/bin/tnameserv to provide /usr/bin/tnameserv (tnameserv) in auto mode\n",
      "update-alternatives: using /usr/lib/jvm/java-8-openjdk-amd64/jre/lib/jexec to provide /usr/bin/jexec (jexec) in auto mode\n",
      "Setting up ca-certificates-java (20190405ubuntu1.1) ...\n",
      "head: cannot open '/etc/ssl/certs/java/cacerts' for reading: No such file or directory\n",
      "Adding debian:Starfield_Services_Root_Certificate_Authority_-_G2.pem\n",
      "Adding debian:DigiCert_Global_Root_CA.pem\n",
      "Adding debian:Security_Communication_ECC_RootCA1.pem\n",
      "Adding debian:Entrust_Root_Certification_Authority.pem\n",
      "Adding debian:ISRG_Root_X1.pem\n",
      "Adding debian:HARICA_TLS_ECC_Root_CA_2021.pem\n",
      "Adding debian:IdenTrust_Public_Sector_Root_CA_1.pem\n",
      "Adding debian:certSIGN_ROOT_CA.pem\n",
      "Adding debian:D-TRUST_BR_Root_CA_1_2020.pem\n",
      "Adding debian:Microsoft_ECC_Root_Certificate_Authority_2017.pem\n",
      "Adding debian:USERTrust_RSA_Certification_Authority.pem\n",
      "Adding debian:Actalis_Authentication_Root_CA.pem\n",
      "Adding debian:UCA_Extended_Validation_Root.pem\n",
      "Adding debian:ANF_Secure_Server_Root_CA.pem\n",
      "Adding debian:SwissSign_Silver_CA_-_G2.pem\n",
      "Adding debian:AffirmTrust_Networking.pem\n",
      "Adding debian:SZAFIR_ROOT_CA2.pem\n",
      "Adding debian:NetLock_Arany_=Class_Gold=_Főtanúsítvány.pem\n",
      "Adding debian:DigiCert_Assured_ID_Root_G2.pem\n",
      "Adding debian:Hellenic_Academic_and_Research_Institutions_ECC_RootCA_2015.pem\n",
      "Adding debian:GlobalSign_Root_E46.pem\n",
      "Adding debian:emSign_Root_CA_-_G1.pem\n",
      "Adding debian:SSL.com_Root_Certification_Authority_RSA.pem\n",
      "Adding debian:UCA_Global_G2_Root.pem\n",
      "Adding debian:HiPKI_Root_CA_-_G1.pem\n",
      "Adding debian:Certum_Trusted_Root_CA.pem\n",
      "Adding debian:Certum_Trusted_Network_CA_2.pem\n",
      "Adding debian:NAVER_Global_Root_Certification_Authority.pem\n",
      "Adding debian:XRamp_Global_CA_Root.pem\n",
      "Adding debian:SSL.com_Root_Certification_Authority_ECC.pem\n",
      "Adding debian:QuoVadis_Root_CA_1_G3.pem\n",
      "Adding debian:SSL.com_EV_Root_Certification_Authority_ECC.pem\n",
      "Adding debian:Hellenic_Academic_and_Research_Institutions_RootCA_2015.pem\n",
      "Adding debian:OISTE_WISeKey_Global_Root_GC_CA.pem\n",
      "Adding debian:QuoVadis_Root_CA_3.pem\n",
      "Adding debian:TunTrust_Root_CA.pem\n",
      "Adding debian:DigiCert_Assured_ID_Root_G3.pem\n",
      "Adding debian:Izenpe.com.pem\n",
      "Adding debian:Comodo_AAA_Services_root.pem\n",
      "Adding debian:Amazon_Root_CA_4.pem\n",
      "Adding debian:Telia_Root_CA_v2.pem\n",
      "Adding debian:E-Tugra_Global_Root_CA_ECC_v3.pem\n",
      "Adding debian:Buypass_Class_3_Root_CA.pem\n",
      "Adding debian:vTrus_ECC_Root_CA.pem\n",
      "Adding debian:Security_Communication_Root_CA.pem\n",
      "Adding debian:Amazon_Root_CA_2.pem\n",
      "Adding debian:QuoVadis_Root_CA_2_G3.pem\n",
      "Adding debian:Entrust_Root_Certification_Authority_-_G4.pem\n",
      "Adding debian:AffirmTrust_Commercial.pem\n",
      "Adding debian:Microsec_e-Szigno_Root_CA_2009.pem\n",
      "Adding debian:TUBITAK_Kamu_SM_SSL_Kok_Sertifikasi_-_Surum_1.pem\n",
      "Adding debian:USERTrust_ECC_Certification_Authority.pem\n",
      "Adding debian:DigiCert_Trusted_Root_G4.pem\n",
      "Adding debian:OISTE_WISeKey_Global_Root_GB_CA.pem\n",
      "Adding debian:GLOBALTRUST_2020.pem\n",
      "Adding debian:DigiCert_TLS_RSA4096_Root_G5.pem\n",
      "Adding debian:DigiCert_TLS_ECC_P384_Root_G5.pem\n",
      "Adding debian:GlobalSign_ECC_Root_CA_-_R4.pem\n",
      "Adding debian:Certainly_Root_E1.pem\n",
      "Adding debian:emSign_ECC_Root_CA_-_G3.pem\n",
      "Adding debian:D-TRUST_EV_Root_CA_1_2020.pem\n",
      "Adding debian:Amazon_Root_CA_3.pem\n",
      "Adding debian:AC_RAIZ_FNMT-RCM_SERVIDORES_SEGUROS.pem\n",
      "Adding debian:Buypass_Class_2_Root_CA.pem\n",
      "Adding debian:T-TeleSec_GlobalRoot_Class_2.pem\n",
      "Adding debian:DigiCert_Global_Root_G2.pem\n",
      "Adding debian:SecureSign_RootCA11.pem\n",
      "Adding debian:AC_RAIZ_FNMT-RCM.pem\n",
      "Adding debian:Baltimore_CyberTrust_Root.pem\n",
      "Adding debian:DigiCert_Assured_ID_Root_CA.pem\n",
      "Adding debian:CA_Disig_Root_R2.pem\n",
      "Adding debian:QuoVadis_Root_CA_3_G3.pem\n",
      "Adding debian:D-TRUST_Root_Class_3_CA_2_2009.pem\n",
      "Adding debian:GTS_Root_R1.pem\n",
      "Adding debian:COMODO_Certification_Authority.pem\n",
      "Adding debian:Microsoft_RSA_Root_Certificate_Authority_2017.pem\n",
      "Adding debian:Hongkong_Post_Root_CA_1.pem\n",
      "Adding debian:GlobalSign_Root_CA_-_R6.pem\n",
      "Adding debian:Certigna_Root_CA.pem\n",
      "Adding debian:DigiCert_Global_Root_G3.pem\n",
      "Adding debian:Autoridad_de_Certificacion_Firmaprofesional_CIF_A62634068.pem\n",
      "Adding debian:GlobalSign_Root_R46.pem\n",
      "Adding debian:TWCA_Global_Root_CA.pem\n",
      "Adding debian:E-Tugra_Global_Root_CA_RSA_v3.pem\n",
      "Adding debian:SwissSign_Gold_CA_-_G2.pem\n",
      "Adding debian:Security_Communication_RootCA3.pem\n",
      "Adding debian:T-TeleSec_GlobalRoot_Class_3.pem\n",
      "Adding debian:HARICA_TLS_RSA_Root_CA_2021.pem\n",
      "Adding debian:Secure_Global_CA.pem\n",
      "Adding debian:Entrust_Root_Certification_Authority_-_EC1.pem\n",
      "Adding debian:Hongkong_Post_Root_CA_3.pem\n",
      "Adding debian:Certigna.pem\n",
      "Adding debian:Amazon_Root_CA_1.pem\n",
      "Adding debian:Starfield_Root_Certificate_Authority_-_G2.pem\n",
      "Adding debian:Trustwave_Global_ECC_P256_Certification_Authority.pem\n",
      "Adding debian:Entrust.net_Premium_2048_Secure_Server_CA.pem\n",
      "Adding debian:emSign_Root_CA_-_C1.pem\n",
      "Adding debian:Security_Communication_RootCA2.pem\n",
      "Adding debian:GlobalSign_Root_CA.pem\n",
      "Adding debian:certSIGN_Root_CA_G2.pem\n",
      "Adding debian:TWCA_Root_Certification_Authority.pem\n",
      "Adding debian:AffirmTrust_Premium_ECC.pem\n",
      "Adding debian:GDCA_TrustAUTH_R5_ROOT.pem\n",
      "Adding debian:GTS_Root_R3.pem\n",
      "Adding debian:GlobalSign_Root_CA_-_R3.pem\n",
      "Adding debian:D-TRUST_Root_Class_3_CA_2_EV_2009.pem\n",
      "Adding debian:CFCA_EV_ROOT.pem\n",
      "Adding debian:Certainly_Root_R1.pem\n",
      "Adding debian:Atos_TrustedRoot_2011.pem\n",
      "Adding debian:TeliaSonera_Root_CA_v1.pem\n",
      "Adding debian:Go_Daddy_Root_Certificate_Authority_-_G2.pem\n",
      "Adding debian:ACCVRAIZ1.pem\n",
      "Adding debian:SecureTrust_CA.pem\n",
      "Adding debian:Trustwave_Global_ECC_P384_Certification_Authority.pem\n",
      "Adding debian:GTS_Root_R2.pem\n",
      "Adding debian:vTrus_Root_CA.pem\n",
      "Adding debian:QuoVadis_Root_CA_2.pem\n",
      "Adding debian:COMODO_ECC_Certification_Authority.pem\n",
      "Adding debian:e-Szigno_Root_CA_2017.pem\n",
      "Adding debian:SSL.com_EV_Root_Certification_Authority_RSA_R2.pem\n",
      "Adding debian:Trustwave_Global_Certification_Authority.pem\n",
      "Adding debian:COMODO_RSA_Certification_Authority.pem\n",
      "Adding debian:GlobalSign_ECC_Root_CA_-_R5.pem\n",
      "Adding debian:Certum_Trusted_Network_CA.pem\n",
      "Adding debian:emSign_ECC_Root_CA_-_C3.pem\n",
      "Adding debian:Starfield_Class_2_CA.pem\n",
      "Adding debian:E-Tugra_Certification_Authority.pem\n",
      "Adding debian:Entrust_Root_Certification_Authority_-_G2.pem\n",
      "Adding debian:ISRG_Root_X2.pem\n",
      "Adding debian:DigiCert_High_Assurance_EV_Root_CA.pem\n",
      "Adding debian:IdenTrust_Commercial_Root_CA_1.pem\n",
      "Adding debian:Autoridad_de_Certificacion_Firmaprofesional_CIF_A62634068_2.pem\n",
      "Adding debian:GTS_Root_R4.pem\n",
      "Adding debian:ePKI_Root_Certification_Authority.pem\n",
      "Adding debian:Go_Daddy_Class_2_CA.pem\n",
      "Adding debian:AffirmTrust_Premium.pem\n",
      "Adding debian:Certum_EC-384_CA.pem\n",
      "done.\n",
      "Setting up openjdk-8-jdk-headless:amd64 (8u382-ga-1~20.04.1) ...\n",
      "update-alternatives: using /usr/lib/jvm/java-8-openjdk-amd64/bin/jdeps to provide /usr/bin/jdeps (jdeps) in auto mode\n",
      "update-alternatives: using /usr/lib/jvm/java-8-openjdk-amd64/bin/wsimport to provide /usr/bin/wsimport (wsimport) in auto mode\n",
      "update-alternatives: using /usr/lib/jvm/java-8-openjdk-amd64/bin/jinfo to provide /usr/bin/jinfo (jinfo) in auto mode\n",
      "update-alternatives: using /usr/lib/jvm/java-8-openjdk-amd64/bin/jsadebugd to provide /usr/bin/jsadebugd (jsadebugd) in auto mode\n",
      "update-alternatives: using /usr/lib/jvm/java-8-openjdk-amd64/bin/native2ascii to provide /usr/bin/native2ascii (native2ascii) in auto mode\n",
      "update-alternatives: using /usr/lib/jvm/java-8-openjdk-amd64/bin/jstat to provide /usr/bin/jstat (jstat) in auto mode\n",
      "update-alternatives: using /usr/lib/jvm/java-8-openjdk-amd64/bin/javac to provide /usr/bin/javac (javac) in auto mode\n",
      "update-alternatives: using /usr/lib/jvm/java-8-openjdk-amd64/bin/javah to provide /usr/bin/javah (javah) in auto mode\n",
      "update-alternatives: using /usr/lib/jvm/java-8-openjdk-amd64/bin/idlj to provide /usr/bin/idlj (idlj) in auto mode\n",
      "update-alternatives: using /usr/lib/jvm/java-8-openjdk-amd64/bin/clhsdb to provide /usr/bin/clhsdb (clhsdb) in auto mode\n",
      "update-alternatives: using /usr/lib/jvm/java-8-openjdk-amd64/bin/jps to provide /usr/bin/jps (jps) in auto mode\n",
      "update-alternatives: using /usr/lib/jvm/java-8-openjdk-amd64/bin/jstack to provide /usr/bin/jstack (jstack) in auto mode\n",
      "update-alternatives: using /usr/lib/jvm/java-8-openjdk-amd64/bin/jrunscript to provide /usr/bin/jrunscript (jrunscript) in auto mode\n",
      "update-alternatives: using /usr/lib/jvm/java-8-openjdk-amd64/bin/javadoc to provide /usr/bin/javadoc (javadoc) in auto mode\n",
      "update-alternatives: using /usr/lib/jvm/java-8-openjdk-amd64/bin/jhat to provide /usr/bin/jhat (jhat) in auto mode\n",
      "update-alternatives: using /usr/lib/jvm/java-8-openjdk-amd64/bin/javap to provide /usr/bin/javap (javap) in auto mode\n",
      "update-alternatives: using /usr/lib/jvm/java-8-openjdk-amd64/bin/jar to provide /usr/bin/jar (jar) in auto mode\n",
      "update-alternatives: using /usr/lib/jvm/java-8-openjdk-amd64/bin/xjc to provide /usr/bin/xjc (xjc) in auto mode\n",
      "update-alternatives: using /usr/lib/jvm/java-8-openjdk-amd64/bin/hsdb to provide /usr/bin/hsdb (hsdb) in auto mode\n",
      "update-alternatives: using /usr/lib/jvm/java-8-openjdk-amd64/bin/schemagen to provide /usr/bin/schemagen (schemagen) in auto mode\n",
      "update-alternatives: using /usr/lib/jvm/java-8-openjdk-amd64/bin/extcheck to provide /usr/bin/extcheck (extcheck) in auto mode\n",
      "update-alternatives: using /usr/lib/jvm/java-8-openjdk-amd64/bin/rmic to provide /usr/bin/rmic (rmic) in auto mode\n",
      "update-alternatives: using /usr/lib/jvm/java-8-openjdk-amd64/bin/jstatd to provide /usr/bin/jstatd (jstatd) in auto mode\n",
      "update-alternatives: using /usr/lib/jvm/java-8-openjdk-amd64/bin/jmap to provide /usr/bin/jmap (jmap) in auto mode\n",
      "update-alternatives: using /usr/lib/jvm/java-8-openjdk-amd64/bin/jdb to provide /usr/bin/jdb (jdb) in auto mode\n",
      "update-alternatives: using /usr/lib/jvm/java-8-openjdk-amd64/bin/serialver to provide /usr/bin/serialver (serialver) in auto mode\n",
      "update-alternatives: using /usr/lib/jvm/java-8-openjdk-amd64/bin/jfr to provide /usr/bin/jfr (jfr) in auto mode\n",
      "update-alternatives: using /usr/lib/jvm/java-8-openjdk-amd64/bin/wsgen to provide /usr/bin/wsgen (wsgen) in auto mode\n",
      "update-alternatives: using /usr/lib/jvm/java-8-openjdk-amd64/bin/jcmd to provide /usr/bin/jcmd (jcmd) in auto mode\n",
      "update-alternatives: using /usr/lib/jvm/java-8-openjdk-amd64/bin/jarsigner to provide /usr/bin/jarsigner (jarsigner) in auto mode\n",
      "Processing triggers for libc-bin (2.31-0ubuntu9.9) ...\n",
      "Processing triggers for man-db (2.9.1-1) ...\n",
      "Processing triggers for ca-certificates (20230311ubuntu0.20.04.1) ...\n",
      "Updating certificates in /etc/ssl/certs...\n",
      "0 added, 0 removed; done.\n",
      "Running hooks in /etc/ca-certificates/update.d...\n",
      "\n",
      "done.\n",
      "done.\n"
     ]
    }
   ],
   "source": [
    "!pip install pyspark\n",
    "!pip install -U -q PyDrive\n",
    "!sudo apt-get install openjdk-8-jdk-headless -qq\n",
    "import os\n",
    "os.environ[\"JAVA_HOME\"] = \"/usr/lib/jvm/java-8-openjdk-amd64\""
   ]
  },
  {
   "cell_type": "code",
   "execution_count": 37,
   "metadata": {},
   "outputs": [],
   "source": [
    "import pandas as pd\n",
    "import numpy as np\n",
    "import matplotlib.pyplot as plt\n",
    "%matplotlib inline\n",
    "import seaborn as sns\n",
    "from sklearn.preprocessing import MinMaxScaler\n",
    "from datetime import datetime, timedelta\n",
    "\n",
    "import pyspark\n",
    "from pyspark.sql import *\n",
    "from pyspark.sql.types import *\n",
    "from pyspark.sql.functions import *\n",
    "from pyspark import SparkContext, SparkConf"
   ]
  },
  {
   "cell_type": "code",
   "execution_count": 38,
   "metadata": {},
   "outputs": [
    {
     "name": "stderr",
     "output_type": "stream",
     "text": [
      "23/09/30 18:05:38 WARN Utils: Your hostname, codespaces-f5d2da resolves to a loopback address: 127.0.0.1; using 172.16.5.4 instead (on interface eth0)\n",
      "23/09/30 18:05:38 WARN Utils: Set SPARK_LOCAL_IP if you need to bind to another address\n",
      "Setting default log level to \"WARN\".\n",
      "To adjust logging level use sc.setLogLevel(newLevel). For SparkR, use setLogLevel(newLevel).\n",
      "23/09/30 18:05:39 WARN NativeCodeLoader: Unable to load native-hadoop library for your platform... using builtin-java classes where applicable\n"
     ]
    }
   ],
   "source": [
    "# create the session\n",
    "conf = SparkConf().set(\"spark.ui.port\", \"4050\")\n",
    "\n",
    "# create the context\n",
    "sc = pyspark.SparkContext(conf=conf)\n",
    "spark = SparkSession.builder.getOrCreate()"
   ]
  },
  {
   "cell_type": "code",
   "execution_count": 41,
   "metadata": {},
   "outputs": [],
   "source": [
    "holidays = data_frames['energy-data/power-laws-forecasting-energy-consumption-holidays.csv']\n",
    "metadata = data_frames['energy-data/power-laws-forecasting-energy-consumption-metadata.csv']\n",
    "forecast = data_frames['energy-data/power-laws-forecasting-energy-consumption-submission-forecast-period.csv']\n",
    "test_data = data_frames['energy-data/power-laws-forecasting-energy-consumption-test-data.csv']\n",
    "train_data = data_frames['energy-data/power-laws-forecasting-energy-consumption-training-data.csv']\n",
    "weather = data_frames['energy-data/power-laws-forecasting-energy-consumption-weather.csv']"
   ]
  },
  {
   "cell_type": "code",
   "execution_count": 43,
   "metadata": {},
   "outputs": [],
   "source": [
    "total_data = pd.concat([train_data, test_data])"
   ]
  },
  {
   "cell_type": "code",
   "execution_count": 44,
   "metadata": {},
   "outputs": [
    {
     "data": {
      "text/html": [
       "<div>\n",
       "<style scoped>\n",
       "    .dataframe tbody tr th:only-of-type {\n",
       "        vertical-align: middle;\n",
       "    }\n",
       "\n",
       "    .dataframe tbody tr th {\n",
       "        vertical-align: top;\n",
       "    }\n",
       "\n",
       "    .dataframe thead th {\n",
       "        text-align: right;\n",
       "    }\n",
       "</style>\n",
       "<table border=\"1\" class=\"dataframe\">\n",
       "  <thead>\n",
       "    <tr style=\"text-align: right;\">\n",
       "      <th></th>\n",
       "      <th>SiteId</th>\n",
       "      <th>Timestamp</th>\n",
       "      <th>Value</th>\n",
       "    </tr>\n",
       "  </thead>\n",
       "  <tbody>\n",
       "    <tr>\n",
       "      <th>0</th>\n",
       "      <td>1</td>\n",
       "      <td>2014-09-03 00:00:00+00:00</td>\n",
       "      <td>9.096555e+05</td>\n",
       "    </tr>\n",
       "    <tr>\n",
       "      <th>1</th>\n",
       "      <td>1</td>\n",
       "      <td>2014-09-04 00:00:00+00:00</td>\n",
       "      <td>1.748273e+06</td>\n",
       "    </tr>\n",
       "    <tr>\n",
       "      <th>2</th>\n",
       "      <td>1</td>\n",
       "      <td>2014-09-05 00:00:00+00:00</td>\n",
       "      <td>NaN</td>\n",
       "    </tr>\n",
       "    <tr>\n",
       "      <th>3</th>\n",
       "      <td>1</td>\n",
       "      <td>2014-09-06 00:00:00+00:00</td>\n",
       "      <td>NaN</td>\n",
       "    </tr>\n",
       "    <tr>\n",
       "      <th>4</th>\n",
       "      <td>1</td>\n",
       "      <td>2014-09-07 00:00:00+00:00</td>\n",
       "      <td>NaN</td>\n",
       "    </tr>\n",
       "    <tr>\n",
       "      <th>...</th>\n",
       "      <td>...</td>\n",
       "      <td>...</td>\n",
       "      <td>...</td>\n",
       "    </tr>\n",
       "    <tr>\n",
       "      <th>3149111</th>\n",
       "      <td>305</td>\n",
       "      <td>2015-11-21 08:00:00+00:00</td>\n",
       "      <td>2.146361e+03</td>\n",
       "    </tr>\n",
       "    <tr>\n",
       "      <th>3149112</th>\n",
       "      <td>305</td>\n",
       "      <td>2015-11-21 09:00:00+00:00</td>\n",
       "      <td>4.210141e+03</td>\n",
       "    </tr>\n",
       "    <tr>\n",
       "      <th>3149113</th>\n",
       "      <td>305</td>\n",
       "      <td>2015-11-21 10:00:00+00:00</td>\n",
       "      <td>3.944624e+03</td>\n",
       "    </tr>\n",
       "    <tr>\n",
       "      <th>3149114</th>\n",
       "      <td>305</td>\n",
       "      <td>2015-11-21 11:00:00+00:00</td>\n",
       "      <td>3.981655e+03</td>\n",
       "    </tr>\n",
       "    <tr>\n",
       "      <th>3149115</th>\n",
       "      <td>305</td>\n",
       "      <td>2015-11-21 12:00:00+00:00</td>\n",
       "      <td>4.052510e+03</td>\n",
       "    </tr>\n",
       "  </tbody>\n",
       "</table>\n",
       "<p>3149116 rows × 3 columns</p>\n",
       "</div>"
      ],
      "text/plain": [
       "         SiteId                 Timestamp         Value\n",
       "0             1 2014-09-03 00:00:00+00:00  9.096555e+05\n",
       "1             1 2014-09-04 00:00:00+00:00  1.748273e+06\n",
       "2             1 2014-09-05 00:00:00+00:00           NaN\n",
       "3             1 2014-09-06 00:00:00+00:00           NaN\n",
       "4             1 2014-09-07 00:00:00+00:00           NaN\n",
       "...         ...                       ...           ...\n",
       "3149111     305 2015-11-21 08:00:00+00:00  2.146361e+03\n",
       "3149112     305 2015-11-21 09:00:00+00:00  4.210141e+03\n",
       "3149113     305 2015-11-21 10:00:00+00:00  3.944624e+03\n",
       "3149114     305 2015-11-21 11:00:00+00:00  3.981655e+03\n",
       "3149115     305 2015-11-21 12:00:00+00:00  4.052510e+03\n",
       "\n",
       "[3149116 rows x 3 columns]"
      ]
     },
     "execution_count": 44,
     "metadata": {},
     "output_type": "execute_result"
    }
   ],
   "source": [
    "# Convert the Timestamp column to datetime\n",
    "total_data['Timestamp'] = pd.to_datetime(total_data['Timestamp'])\n",
    "\n",
    "# Group by Timestamp and SiteId, and calculate the mean value\n",
    "result_total_data = total_data.groupby(['SiteId', pd.Grouper(key='Timestamp', freq='H')])['Value'].mean().reset_index()\n",
    "\n",
    "result_total_data"
   ]
  },
  {
   "cell_type": "markdown",
   "metadata": {},
   "source": [
    "### Se organizan los datos en orden cronologico"
   ]
  },
  {
   "cell_type": "code",
   "execution_count": 45,
   "metadata": {},
   "outputs": [
    {
     "name": "stderr",
     "output_type": "stream",
     "text": [
      "/home/codespace/.python/current/lib/python3.10/site-packages/pyspark/sql/pandas/conversion.py:485: FutureWarning: is_datetime64tz_dtype is deprecated and will be removed in a future version. Check `isinstance(dtype, pd.DatetimeTZDtype)` instead.\n",
      "  if should_localize and is_datetime64tz_dtype(s.dtype) and s.dt.tz is not None:\n",
      "/home/codespace/.python/current/lib/python3.10/site-packages/pyspark/sql/pandas/types.py:379: FutureWarning: is_datetime64tz_dtype is deprecated and will be removed in a future version. Check `isinstance(dtype, pd.DatetimeTZDtype)` instead.\n",
      "  if is_datetime64tz_dtype(s.dtype):\n"
     ]
    }
   ],
   "source": [
    "data_spark = spark.createDataFrame(result_total_data)"
   ]
  },
  {
   "cell_type": "code",
   "execution_count": 46,
   "metadata": {},
   "outputs": [],
   "source": [
    "data_ordenado=data_spark.sort('Timestamp')"
   ]
  },
  {
   "cell_type": "code",
   "execution_count": 47,
   "metadata": {},
   "outputs": [
    {
     "name": "stderr",
     "output_type": "stream",
     "text": [
      "23/09/30 18:18:00 WARN TaskSetManager: Stage 0 contains a task of very large size (16946 KiB). The maximum recommended task size is 1000 KiB.\n",
      "23/09/30 18:18:05 WARN PythonRunner: Detected deadlock while completing task 0.0 in stage 0 (TID 0): Attempting to kill Python Worker\n",
      "                                                                                \r"
     ]
    },
    {
     "name": "stdout",
     "output_type": "stream",
     "text": [
      "+------+-------------------+------------------+\n",
      "|SiteId|          Timestamp|             Value|\n",
      "+------+-------------------+------------------+\n",
      "|     1|2014-09-03 00:00:00|  909655.510515214|\n",
      "|     1|2014-09-04 00:00:00| 1748273.124752296|\n",
      "|     1|2014-09-05 00:00:00|               NaN|\n",
      "|     1|2014-09-06 00:00:00|               NaN|\n",
      "|     1|2014-09-07 00:00:00|               NaN|\n",
      "|     1|2014-09-08 00:00:00|  1964877.99902387|\n",
      "|     1|2014-09-09 00:00:00|  3266903.91769804|\n",
      "|     1|2014-09-10 00:00:00|2926094.4745757496|\n",
      "|     1|2014-09-11 00:00:00|1720502.1513768754|\n",
      "|     1|2014-09-12 00:00:00|1136248.1075743749|\n",
      "|     1|2014-09-13 00:00:00|1040528.6001987156|\n",
      "|     1|2014-09-14 00:00:00|1030667.6855087331|\n",
      "|     1|2014-09-15 00:00:00|1226753.4244866522|\n",
      "|     1|2014-09-16 00:00:00|1228874.2899190905|\n",
      "|     1|2014-09-17 00:00:00|  1169026.41570396|\n",
      "|     1|2014-09-18 00:00:00|1513721.7344672228|\n",
      "|     1|2014-09-19 00:00:00|2015528.3234096123|\n",
      "|     1|2014-09-20 00:00:00|2548942.6232305737|\n",
      "|     1|2014-09-21 00:00:00| 4235357.965420706|\n",
      "|     1|2014-09-22 00:00:00| 5537999.695918866|\n",
      "+------+-------------------+------------------+\n",
      "only showing top 20 rows\n",
      "\n"
     ]
    }
   ],
   "source": [
    "data_spark.show()"
   ]
  },
  {
   "cell_type": "code",
   "execution_count": 48,
   "metadata": {},
   "outputs": [
    {
     "name": "stderr",
     "output_type": "stream",
     "text": [
      "23/09/30 18:18:09 WARN TaskSetManager: Stage 1 contains a task of very large size (16946 KiB). The maximum recommended task size is 1000 KiB.\n",
      "[Stage 1:>                                                          (0 + 4) / 4]\r"
     ]
    },
    {
     "name": "stdout",
     "output_type": "stream",
     "text": [
      "+------+-------------------+-----------------+\n",
      "|SiteId|          Timestamp|            Value|\n",
      "+------+-------------------+-----------------+\n",
      "|   297|2009-06-23 06:00:00| 96408.8267305633|\n",
      "|   297|2009-06-23 07:00:00|76800.25180231314|\n",
      "|   297|2009-06-23 08:00:00|75166.20389162563|\n",
      "|   297|2009-06-23 09:00:00| 71898.1080702506|\n",
      "|   297|2009-06-23 10:00:00|73532.15598093811|\n",
      "|   297|2009-06-23 11:00:00| 71898.1080702506|\n",
      "|   297|2009-06-23 12:00:00| 71898.1080702506|\n",
      "|   297|2009-06-23 13:00:00|70264.06015956309|\n",
      "|   297|2009-06-23 14:00:00| 71898.1080702506|\n",
      "|   297|2009-06-23 15:00:00| 71898.1080702506|\n",
      "|   297|2009-06-23 16:00:00|70264.06015956309|\n",
      "|   297|2009-06-23 17:00:00| 71898.1080702506|\n",
      "|   297|2009-06-23 18:00:00| 71898.1080702506|\n",
      "|   297|2009-06-23 19:00:00| 71898.1080702506|\n",
      "|   297|2009-06-23 20:00:00|78434.29971300067|\n",
      "|   297|2009-06-23 21:00:00|78434.29971300067|\n",
      "|   297|2009-06-23 22:00:00|80068.34762368817|\n",
      "|   297|2009-06-23 23:00:00|81702.39553437567|\n",
      "|   297|2009-06-24 00:00:00|80068.34762368817|\n",
      "|   297|2009-06-24 01:00:00|73532.15598093811|\n",
      "+------+-------------------+-----------------+\n",
      "only showing top 20 rows\n",
      "\n"
     ]
    },
    {
     "name": "stderr",
     "output_type": "stream",
     "text": [
      "                                                                                \r"
     ]
    }
   ],
   "source": [
    "data_ordenado.show()"
   ]
  },
  {
   "cell_type": "code",
   "execution_count": 49,
   "metadata": {},
   "outputs": [
    {
     "data": {
      "text/html": [
       "<div>\n",
       "<style scoped>\n",
       "    .dataframe tbody tr th:only-of-type {\n",
       "        vertical-align: middle;\n",
       "    }\n",
       "\n",
       "    .dataframe tbody tr th {\n",
       "        vertical-align: top;\n",
       "    }\n",
       "\n",
       "    .dataframe thead th {\n",
       "        text-align: right;\n",
       "    }\n",
       "</style>\n",
       "<table border=\"1\" class=\"dataframe\">\n",
       "  <thead>\n",
       "    <tr style=\"text-align: right;\">\n",
       "      <th></th>\n",
       "      <th>SiteId</th>\n",
       "      <th>Timestamp</th>\n",
       "      <th>Temperature</th>\n",
       "    </tr>\n",
       "  </thead>\n",
       "  <tbody>\n",
       "    <tr>\n",
       "      <th>0</th>\n",
       "      <td>2</td>\n",
       "      <td>2013-01-01 13:00:00+00:00</td>\n",
       "      <td>21.85</td>\n",
       "    </tr>\n",
       "    <tr>\n",
       "      <th>1</th>\n",
       "      <td>2</td>\n",
       "      <td>2013-01-01 14:00:00+00:00</td>\n",
       "      <td>22.00</td>\n",
       "    </tr>\n",
       "    <tr>\n",
       "      <th>2</th>\n",
       "      <td>2</td>\n",
       "      <td>2013-01-01 15:00:00+00:00</td>\n",
       "      <td>22.00</td>\n",
       "    </tr>\n",
       "    <tr>\n",
       "      <th>3</th>\n",
       "      <td>2</td>\n",
       "      <td>2013-01-01 16:00:00+00:00</td>\n",
       "      <td>22.70</td>\n",
       "    </tr>\n",
       "    <tr>\n",
       "      <th>4</th>\n",
       "      <td>2</td>\n",
       "      <td>2013-01-01 17:00:00+00:00</td>\n",
       "      <td>22.00</td>\n",
       "    </tr>\n",
       "    <tr>\n",
       "      <th>...</th>\n",
       "      <td>...</td>\n",
       "      <td>...</td>\n",
       "      <td>...</td>\n",
       "    </tr>\n",
       "    <tr>\n",
       "      <th>1284292</th>\n",
       "      <td>57</td>\n",
       "      <td>2017-12-30 18:00:00+00:00</td>\n",
       "      <td>8.00</td>\n",
       "    </tr>\n",
       "    <tr>\n",
       "      <th>1284293</th>\n",
       "      <td>57</td>\n",
       "      <td>2017-12-30 19:00:00+00:00</td>\n",
       "      <td>8.70</td>\n",
       "    </tr>\n",
       "    <tr>\n",
       "      <th>1284294</th>\n",
       "      <td>57</td>\n",
       "      <td>2017-12-30 20:00:00+00:00</td>\n",
       "      <td>8.00</td>\n",
       "    </tr>\n",
       "    <tr>\n",
       "      <th>1284295</th>\n",
       "      <td>57</td>\n",
       "      <td>2017-12-30 21:00:00+00:00</td>\n",
       "      <td>7.00</td>\n",
       "    </tr>\n",
       "    <tr>\n",
       "      <th>1284296</th>\n",
       "      <td>57</td>\n",
       "      <td>2017-12-30 22:00:00+00:00</td>\n",
       "      <td>6.60</td>\n",
       "    </tr>\n",
       "  </tbody>\n",
       "</table>\n",
       "<p>1284297 rows × 3 columns</p>\n",
       "</div>"
      ],
      "text/plain": [
       "         SiteId                 Timestamp  Temperature\n",
       "0             2 2013-01-01 13:00:00+00:00        21.85\n",
       "1             2 2013-01-01 14:00:00+00:00        22.00\n",
       "2             2 2013-01-01 15:00:00+00:00        22.00\n",
       "3             2 2013-01-01 16:00:00+00:00        22.70\n",
       "4             2 2013-01-01 17:00:00+00:00        22.00\n",
       "...         ...                       ...          ...\n",
       "1284292      57 2017-12-30 18:00:00+00:00         8.00\n",
       "1284293      57 2017-12-30 19:00:00+00:00         8.70\n",
       "1284294      57 2017-12-30 20:00:00+00:00         8.00\n",
       "1284295      57 2017-12-30 21:00:00+00:00         7.00\n",
       "1284296      57 2017-12-30 22:00:00+00:00         6.60\n",
       "\n",
       "[1284297 rows x 3 columns]"
      ]
     },
     "execution_count": 49,
     "metadata": {},
     "output_type": "execute_result"
    }
   ],
   "source": [
    "# Convert the Timestamp column to datetime\n",
    "weather['Timestamp'] = pd.to_datetime(weather['Timestamp'])\n",
    "\n",
    "# Group by Timestamp and SiteId, and calculate the mean temperature\n",
    "result = weather.groupby(['SiteId', pd.Grouper(key='Timestamp', freq='H')])['Temperature'].median().reset_index()\n",
    "\n",
    "result"
   ]
  },
  {
   "cell_type": "code",
   "execution_count": 50,
   "metadata": {},
   "outputs": [
    {
     "name": "stderr",
     "output_type": "stream",
     "text": [
      "/home/codespace/.python/current/lib/python3.10/site-packages/pyspark/sql/pandas/conversion.py:485: FutureWarning: is_datetime64tz_dtype is deprecated and will be removed in a future version. Check `isinstance(dtype, pd.DatetimeTZDtype)` instead.\n",
      "  if should_localize and is_datetime64tz_dtype(s.dtype) and s.dt.tz is not None:\n",
      "/home/codespace/.python/current/lib/python3.10/site-packages/pyspark/sql/pandas/types.py:379: FutureWarning: is_datetime64tz_dtype is deprecated and will be removed in a future version. Check `isinstance(dtype, pd.DatetimeTZDtype)` instead.\n",
      "  if is_datetime64tz_dtype(s.dtype):\n"
     ]
    }
   ],
   "source": [
    "data_weatherpark = spark.createDataFrame(result)"
   ]
  },
  {
   "cell_type": "code",
   "execution_count": 51,
   "metadata": {},
   "outputs": [],
   "source": [
    "data_weatherorden=data_weatherpark.sort('Timestamp')"
   ]
  },
  {
   "cell_type": "code",
   "execution_count": 52,
   "metadata": {},
   "outputs": [
    {
     "name": "stdout",
     "output_type": "stream",
     "text": [
      "+------+-------------------+-----------+\n",
      "|SiteId|          Timestamp|Temperature|\n",
      "+------+-------------------+-----------+\n",
      "|     2|2013-01-01 13:00:00|      21.85|\n",
      "|     2|2013-01-01 14:00:00|       22.0|\n",
      "|     2|2013-01-01 15:00:00|       22.0|\n",
      "|     2|2013-01-01 16:00:00|       22.7|\n",
      "|     2|2013-01-01 17:00:00|       22.0|\n",
      "|     2|2013-01-01 18:00:00|       22.0|\n",
      "|     2|2013-01-01 19:00:00|      20.75|\n",
      "|     2|2013-01-01 20:00:00|       20.0|\n",
      "|     2|2013-01-01 21:00:00|       17.0|\n",
      "|     2|2013-01-01 22:00:00|       16.0|\n",
      "|     2|2013-01-01 23:00:00|       16.0|\n",
      "|     2|2013-01-02 00:00:00|       15.0|\n",
      "|     2|2013-01-02 01:00:00|       15.0|\n",
      "|     2|2013-01-02 02:00:00|       15.0|\n",
      "|     2|2013-01-02 03:00:00|       15.0|\n",
      "|     2|2013-01-02 04:00:00|      13.95|\n",
      "|     2|2013-01-02 05:00:00|       15.0|\n",
      "|     2|2013-01-02 06:00:00|       15.0|\n",
      "|     2|2013-01-02 07:00:00|      15.95|\n",
      "|     2|2013-01-02 08:00:00|       17.0|\n",
      "+------+-------------------+-----------+\n",
      "only showing top 20 rows\n",
      "\n"
     ]
    },
    {
     "name": "stderr",
     "output_type": "stream",
     "text": [
      "23/09/30 18:20:56 WARN TaskSetManager: Stage 2 contains a task of very large size (6901 KiB). The maximum recommended task size is 1000 KiB.\n"
     ]
    }
   ],
   "source": [
    "data_weatherpark.show()"
   ]
  },
  {
   "cell_type": "code",
   "execution_count": 53,
   "metadata": {},
   "outputs": [
    {
     "name": "stderr",
     "output_type": "stream",
     "text": [
      "23/09/30 18:21:00 WARN TaskSetManager: Stage 3 contains a task of very large size (6901 KiB). The maximum recommended task size is 1000 KiB.\n",
      "[Stage 3:==============>                                            (1 + 3) / 4]\r"
     ]
    },
    {
     "name": "stdout",
     "output_type": "stream",
     "text": [
      "+------+-------------------+-----------+\n",
      "|SiteId|          Timestamp|Temperature|\n",
      "+------+-------------------+-----------+\n",
      "|     3|2013-01-01 13:00:00|      21.85|\n",
      "|    10|2013-01-01 13:00:00|      25.85|\n",
      "|     4|2013-01-01 13:00:00|      25.85|\n",
      "|     2|2013-01-01 13:00:00|      21.85|\n",
      "|     5|2013-01-01 13:00:00|      21.85|\n",
      "|     6|2013-01-01 13:00:00|      21.85|\n",
      "|     8|2013-01-01 13:00:00|      25.85|\n",
      "|     9|2013-01-01 13:00:00|      25.85|\n",
      "|    10|2013-01-01 14:00:00|       27.0|\n",
      "|     4|2013-01-01 14:00:00|       27.0|\n",
      "|     2|2013-01-01 14:00:00|       22.0|\n",
      "|     5|2013-01-01 14:00:00|       22.0|\n",
      "|     3|2013-01-01 14:00:00|       22.0|\n",
      "|     6|2013-01-01 14:00:00|       22.0|\n",
      "|     8|2013-01-01 14:00:00|       27.0|\n",
      "|     9|2013-01-01 14:00:00|       27.0|\n",
      "|    10|2013-01-01 15:00:00|       27.0|\n",
      "|     2|2013-01-01 15:00:00|       22.0|\n",
      "|     4|2013-01-01 15:00:00|       27.0|\n",
      "|     3|2013-01-01 15:00:00|       22.0|\n",
      "+------+-------------------+-----------+\n",
      "only showing top 20 rows\n",
      "\n"
     ]
    },
    {
     "name": "stderr",
     "output_type": "stream",
     "text": [
      "                                                                                \r"
     ]
    }
   ],
   "source": [
    "data_weatherorden.show()"
   ]
  },
  {
   "cell_type": "code",
   "execution_count": 54,
   "metadata": {},
   "outputs": [],
   "source": [
    "holidayspark = spark.createDataFrame(holidays)"
   ]
  },
  {
   "cell_type": "code",
   "execution_count": 55,
   "metadata": {},
   "outputs": [
    {
     "name": "stdout",
     "output_type": "stream",
     "text": [
      "+----------+--------------------+------+\n",
      "|      Date|             Holiday|SiteId|\n",
      "+----------+--------------------+------+\n",
      "|2016-02-15|Washington's Birt...|     1|\n",
      "|2017-05-29|        Memorial Day|     1|\n",
      "|2017-11-23|    Thanksgiving Day|     1|\n",
      "|2017-12-29| New Years Eve Shift|     1|\n",
      "|2017-12-31|       New Years Eve|     1|\n",
      "|2014-01-01|            New year|     1|\n",
      "|2015-01-19|Birthday of Marti...|     1|\n",
      "|2017-01-02| New year (Observed)|    12|\n",
      "|2017-11-10|Veterans Day (Obs...|    12|\n",
      "|2017-01-01|            New year|    13|\n",
      "|2015-05-25|        Memorial Day|    13|\n",
      "|2016-11-11|        Veterans Day|    14|\n",
      "|2016-11-24|    Thanksgiving Day|    14|\n",
      "|2016-12-26|Christmas Day (Ob...|    14|\n",
      "|2017-07-04|    Independence Day|    14|\n",
      "|2017-09-04|           Labor Day|    14|\n",
      "|2017-12-26|Washington's Birt...|    14|\n",
      "|2015-01-19|Birthday of Marti...|    14|\n",
      "|2015-07-04|    Independence Day|    14|\n",
      "|2015-09-07|           Labor Day|    14|\n",
      "+----------+--------------------+------+\n",
      "only showing top 20 rows\n",
      "\n"
     ]
    }
   ],
   "source": [
    "holidayspark.show()"
   ]
  },
  {
   "cell_type": "code",
   "execution_count": 56,
   "metadata": {},
   "outputs": [],
   "source": [
    "metadataspark = spark.createDataFrame(metadata)"
   ]
  },
  {
   "cell_type": "code",
   "execution_count": 57,
   "metadata": {},
   "outputs": [
    {
     "name": "stdout",
     "output_type": "stream",
     "text": [
      "+------+------------------+--------+---------------+--------------+---------------+-----------------+----------------+--------------+----------------+--------------+\n",
      "|SiteId|           Surface|Sampling|BaseTemperature|MondayIsDayOff|TuesdayIsDayOff|WednesdayIsDayOff|ThursdayIsDayOff|FridayIsDayOff|SaturdayIsDayOff|SundayIsDayOff|\n",
      "+------+------------------+--------+---------------+--------------+---------------+-----------------+----------------+--------------+----------------+--------------+\n",
      "|   207| 7964.873346500099|    30.0|           18.0|         false|          false|            false|           false|         false|            true|          true|\n",
      "|     7| 15168.12597088516|    30.0|           18.0|         false|          false|            false|           false|         false|            true|          true|\n",
      "|    74| 424.3406632660189|    15.0|           18.0|         false|          false|            false|           false|         false|            true|          true|\n",
      "|   239|1164.8226361721754|    15.0|           18.0|         false|          false|            false|           false|         false|            true|          true|\n",
      "|   274|1468.2466904430185|     5.0|           18.0|         false|          false|            false|           false|         false|            true|          true|\n",
      "|   164| 6176.042091590469|    15.0|           18.0|         false|          false|            false|           false|         false|            true|          true|\n",
      "|   236|  9427.61054598901|    15.0|           18.0|         false|          false|            false|           false|         false|            true|          true|\n",
      "|   100| 9047.136190339224|    15.0|           18.0|         false|          false|            false|           false|         false|            true|          true|\n",
      "|   101| 9024.155116648762|    15.0|           18.0|         false|          false|            false|           false|         false|            true|          true|\n",
      "|   249| 4879.621805681381|    15.0|           18.0|         false|          false|            false|           false|         false|            true|          true|\n",
      "|   263| 2400.952976231929|     5.0|           18.0|         false|          false|            false|           false|         false|            true|          true|\n",
      "|   273| 830.4409150732681|     5.0|           18.0|         false|          false|            false|           false|         false|            true|          true|\n",
      "|   185|1620.7059841835874|    15.0|           18.0|         false|          false|            false|           false|         false|            true|          true|\n",
      "|    16|1218.7383826940577|    15.0|           18.0|         false|          false|            false|           false|         false|            true|          true|\n",
      "|    34| 1868.542637850624|    10.0|           18.0|         false|          false|            false|           false|         false|            true|          true|\n",
      "|    92|13740.528960344964|    15.0|           18.0|         false|          false|            false|           false|         false|            true|          true|\n",
      "|   219| 2044.578573200852|    15.0|           18.0|         false|          false|            false|           false|         false|            true|          true|\n",
      "|   109|20683.592124267016|    15.0|           18.0|         false|          false|            false|           false|         false|            true|          true|\n",
      "|   149| 9551.823600819334|    15.0|           18.0|         false|          false|            false|           false|         false|           false|         false|\n",
      "|   262| 37006.56089500991|    15.0|           18.0|         false|          false|            false|           false|         false|            true|          true|\n",
      "+------+------------------+--------+---------------+--------------+---------------+-----------------+----------------+--------------+----------------+--------------+\n",
      "only showing top 20 rows\n",
      "\n"
     ]
    }
   ],
   "source": [
    "metadataspark.show()"
   ]
  },
  {
   "cell_type": "code",
   "execution_count": 58,
   "metadata": {},
   "outputs": [
    {
     "data": {
      "text/plain": [
       "(502215, 7)"
      ]
     },
     "execution_count": 58,
     "metadata": {},
     "output_type": "execute_result"
    }
   ],
   "source": [
    "temp1 = total_data.merge(weather, how = 'inner', left_on= ['Timestamp','SiteId'], right_on=['Timestamp', 'SiteId'])\n",
    "\n",
    "temp1.shape"
   ]
  },
  {
   "cell_type": "code",
   "execution_count": 59,
   "metadata": {},
   "outputs": [],
   "source": [
    "temp1=data_ordenado.join(data_weatherorden, ['Timestamp','SiteId'], 'inner')"
   ]
  },
  {
   "cell_type": "code",
   "execution_count": 60,
   "metadata": {},
   "outputs": [
    {
     "name": "stderr",
     "output_type": "stream",
     "text": [
      "23/09/30 18:21:24 WARN TaskSetManager: Stage 6 contains a task of very large size (16946 KiB). The maximum recommended task size is 1000 KiB.\n",
      "23/09/30 18:21:26 WARN TaskSetManager: Stage 7 contains a task of very large size (6901 KiB). The maximum recommended task size is 1000 KiB.\n",
      "                                                                                \r"
     ]
    },
    {
     "data": {
      "text/plain": [
       "461657"
      ]
     },
     "execution_count": 60,
     "metadata": {},
     "output_type": "execute_result"
    }
   ],
   "source": [
    "temp1.count()"
   ]
  },
  {
   "cell_type": "code",
   "execution_count": 61,
   "metadata": {},
   "outputs": [
    {
     "data": {
      "text/plain": [
       "4"
      ]
     },
     "execution_count": 61,
     "metadata": {},
     "output_type": "execute_result"
    }
   ],
   "source": [
    "len(temp1.columns)"
   ]
  },
  {
   "cell_type": "code",
   "execution_count": 62,
   "metadata": {},
   "outputs": [
    {
     "name": "stderr",
     "output_type": "stream",
     "text": [
      "23/09/30 18:21:35 WARN TaskSetManager: Stage 15 contains a task of very large size (16946 KiB). The maximum recommended task size is 1000 KiB.\n",
      "23/09/30 18:21:37 WARN TaskSetManager: Stage 16 contains a task of very large size (6901 KiB). The maximum recommended task size is 1000 KiB.\n",
      "[Stage 16:===========================================>              (3 + 1) / 4]\r"
     ]
    },
    {
     "name": "stdout",
     "output_type": "stream",
     "text": [
      "+-------------------+------+------------------+-----------+\n",
      "|          Timestamp|SiteId|             Value|Temperature|\n",
      "+-------------------+------+------------------+-----------+\n",
      "|2013-01-01 13:00:00|     2| 61857.48899385976|      21.85|\n",
      "|2013-01-01 14:00:00|     5|24611.560309614106|       22.0|\n",
      "|2013-01-01 15:00:00|     5|24762.356712672045|       22.0|\n",
      "|2013-01-01 17:00:00|     6|24442.445493296873|       22.0|\n",
      "|2013-01-01 18:00:00|     5|23730.591849644043|       22.0|\n",
      "|2013-01-01 20:00:00|     5|22936.926570391734|       20.0|\n",
      "|2013-01-01 21:00:00|     6| 25884.32394101801|       17.0|\n",
      "|2013-01-01 22:00:00|     6|25646.906204646257|       16.0|\n",
      "|2013-01-01 23:00:00|     5|24000.438044589828|       16.0|\n",
      "|2013-01-02 00:00:00|     3|320703.53464475373|       15.0|\n",
      "|2013-01-02 00:00:00|     6|25177.861408399614|       15.0|\n",
      "|2013-01-02 03:00:00|     5| 19976.55507878062|       15.0|\n",
      "|2013-01-02 05:00:00|     2|  35658.7548051865|       15.0|\n",
      "|2013-01-02 10:00:00|     5| 24286.15754512066|       20.8|\n",
      "|2013-01-02 14:00:00|     2| 54324.52434418467|       24.0|\n",
      "|2013-01-02 15:00:00|     5|25048.076213202876|       25.0|\n",
      "|2013-01-02 16:00:00|     5| 24778.23001825709|       23.0|\n",
      "|2013-01-02 18:00:00|     5|23690.908585681427|       22.0|\n",
      "|2013-01-02 18:00:00|     6| 22873.17216264455|       22.0|\n",
      "|2013-01-02 20:00:00|     2| 23570.64135112514|       21.0|\n",
      "+-------------------+------+------------------+-----------+\n",
      "only showing top 20 rows\n",
      "\n"
     ]
    },
    {
     "name": "stderr",
     "output_type": "stream",
     "text": [
      "                                                                                \r"
     ]
    }
   ],
   "source": [
    "temp1.show()"
   ]
  },
  {
   "cell_type": "code",
   "execution_count": 63,
   "metadata": {},
   "outputs": [
    {
     "name": "stderr",
     "output_type": "stream",
     "text": [
      "23/09/30 18:21:44 WARN TaskSetManager: Stage 20 contains a task of very large size (16946 KiB). The maximum recommended task size is 1000 KiB.\n",
      "23/09/30 18:21:46 WARN TaskSetManager: Stage 21 contains a task of very large size (6901 KiB). The maximum recommended task size is 1000 KiB.\n",
      "[Stage 21:==============>                                           (1 + 3) / 4]\r"
     ]
    },
    {
     "name": "stdout",
     "output_type": "stream",
     "text": [
      "+-------------------+------+------------------+-----------+\n",
      "|          Timestamp|SiteId|             Value|Temperature|\n",
      "+-------------------+------+------------------+-----------+\n",
      "|2013-01-01 13:00:00|     2| 61857.48899385976|      21.85|\n",
      "|2013-01-01 14:00:00|     5|24611.560309614106|       22.0|\n",
      "|2013-01-01 15:00:00|     5|24762.356712672045|       22.0|\n",
      "|2013-01-01 17:00:00|     6|24442.445493296873|       22.0|\n",
      "|2013-01-01 18:00:00|     5|23730.591849644043|       22.0|\n",
      "|2013-01-01 20:00:00|     5|22936.926570391734|       20.0|\n",
      "|2013-01-01 21:00:00|     6| 25884.32394101801|       17.0|\n",
      "|2013-01-01 22:00:00|     6|25646.906204646257|       16.0|\n",
      "|2013-01-01 23:00:00|     5|24000.438044589828|       16.0|\n",
      "|2013-01-02 00:00:00|     3|320703.53464475373|       15.0|\n",
      "|2013-01-02 00:00:00|     6|25177.861408399614|       15.0|\n",
      "|2013-01-02 03:00:00|     5| 19976.55507878062|       15.0|\n",
      "|2013-01-02 05:00:00|     2|  35658.7548051865|       15.0|\n",
      "|2013-01-02 10:00:00|     5| 24286.15754512066|       20.8|\n",
      "|2013-01-02 14:00:00|     2| 54324.52434418467|       24.0|\n",
      "|2013-01-02 15:00:00|     5|25048.076213202876|       25.0|\n",
      "|2013-01-02 16:00:00|     5| 24778.23001825709|       23.0|\n",
      "|2013-01-02 18:00:00|     5|23690.908585681427|       22.0|\n",
      "|2013-01-02 18:00:00|     6| 22873.17216264455|       22.0|\n",
      "|2013-01-02 20:00:00|     2| 23570.64135112514|       21.0|\n",
      "+-------------------+------+------------------+-----------+\n",
      "only showing top 20 rows\n",
      "\n"
     ]
    },
    {
     "name": "stderr",
     "output_type": "stream",
     "text": [
      "                                                                                \r"
     ]
    }
   ],
   "source": [
    "temp1.show()"
   ]
  },
  {
   "cell_type": "code",
   "execution_count": 64,
   "metadata": {},
   "outputs": [],
   "source": [
    "temp2 = temp1.join(metadataspark, 'SiteId','inner')"
   ]
  },
  {
   "cell_type": "code",
   "execution_count": 65,
   "metadata": {},
   "outputs": [
    {
     "name": "stderr",
     "output_type": "stream",
     "text": [
      "23/09/30 18:21:54 WARN TaskSetManager: Stage 25 contains a task of very large size (16946 KiB). The maximum recommended task size is 1000 KiB.\n",
      "23/09/30 18:21:55 WARN TaskSetManager: Stage 26 contains a task of very large size (6901 KiB). The maximum recommended task size is 1000 KiB.\n",
      "                                                                                \r"
     ]
    },
    {
     "name": "stdout",
     "output_type": "stream",
     "text": [
      "+------+-------------------+------------------+-----------+------------------+--------+---------------+--------------+---------------+-----------------+----------------+--------------+----------------+--------------+\n",
      "|SiteId|          Timestamp|             Value|Temperature|           Surface|Sampling|BaseTemperature|MondayIsDayOff|TuesdayIsDayOff|WednesdayIsDayOff|ThursdayIsDayOff|FridayIsDayOff|SaturdayIsDayOff|SundayIsDayOff|\n",
      "+------+-------------------+------------------+-----------+------------------+--------+---------------+--------------+---------------+-----------------+----------------+--------------+----------------+--------------+\n",
      "|    26|2014-11-27 14:00:00|367090.93201896665|       11.0|14.884534437442198|    15.0|           18.0|         false|          false|            false|           false|         false|            true|          true|\n",
      "|    26|2014-11-27 17:00:00| 380214.5218407182|       9.95|14.884534437442198|    15.0|           18.0|         false|          false|            false|           false|         false|            true|          true|\n",
      "|    26|2014-11-27 19:00:00| 369513.9853800378|       9.35|14.884534437442198|    15.0|           18.0|         false|          false|            false|           false|         false|            true|          true|\n",
      "|    26|2014-11-28 06:00:00|356623.18967688765|        9.0|14.884534437442198|    15.0|           18.0|         false|          false|            false|           false|         false|            true|          true|\n",
      "|    26|2014-11-28 15:00:00| 440533.8594959018|       13.0|14.884534437442198|    15.0|           18.0|         false|          false|            false|           false|         false|            true|          true|\n",
      "|    26|2014-11-28 16:00:00|  423050.172770459|       12.0|14.884534437442198|    15.0|           18.0|         false|          false|            false|           false|         false|            true|          true|\n",
      "|    26|2014-11-28 18:00:00| 422010.9196915024|      11.75|14.884534437442198|    15.0|           18.0|         false|          false|            false|           false|         false|            true|          true|\n",
      "|    26|2014-11-29 00:00:00|187789.09143120135|       11.9|14.884534437442198|    15.0|           18.0|         false|          false|            false|           false|         false|            true|          true|\n",
      "|    26|2014-11-29 04:00:00|205557.23649427813|       10.2|14.884534437442198|    15.0|           18.0|         false|          false|            false|           false|         false|            true|          true|\n",
      "|    26|2014-11-29 09:00:00| 501100.9055731932|      15.25|14.884534437442198|    15.0|           18.0|         false|          false|            false|           false|         false|            true|          true|\n",
      "|    26|2014-11-29 14:00:00| 416228.3376006938|       16.9|14.884534437442198|    15.0|           18.0|         false|          false|            false|           false|         false|            true|          true|\n",
      "|    26|2014-11-29 20:00:00|286919.43586505123|       12.7|14.884534437442198|    15.0|           18.0|         false|          false|            false|           false|         false|            true|          true|\n",
      "|    26|2014-11-30 03:00:00|177929.62047344298|        9.9|14.884534437442198|    15.0|           18.0|         false|          false|            false|           false|         false|            true|          true|\n",
      "|    26|2014-11-30 06:00:00|371317.08299725526|       11.0|14.884534437442198|    15.0|           18.0|         false|          false|            false|           false|         false|            true|          true|\n",
      "|    26|2014-11-30 09:00:00| 528557.1559490501|       12.6|14.884534437442198|    15.0|           18.0|         false|          false|            false|           false|         false|            true|          true|\n",
      "|    26|2014-11-30 12:00:00| 408319.9314169953|       13.0|14.884534437442198|    15.0|           18.0|         false|          false|            false|           false|         false|            true|          true|\n",
      "|    26|2014-11-30 20:00:00|283132.34888359834|       12.9|14.884534437442198|    15.0|           18.0|         false|          false|            false|           false|         false|            true|          true|\n",
      "|    26|2014-11-30 21:00:00| 190720.4218742424|       13.0|14.884534437442198|    15.0|           18.0|         false|          false|            false|           false|         false|            true|          true|\n",
      "|    26|2014-12-01 01:00:00|194195.93089631625|       13.0|14.884534437442198|    15.0|           18.0|         false|          false|            false|           false|         false|            true|          true|\n",
      "|    26|2014-12-01 17:00:00| 433328.9112942513|       10.0|14.884534437442198|    15.0|           18.0|         false|          false|            false|           false|         false|            true|          true|\n",
      "+------+-------------------+------------------+-----------+------------------+--------+---------------+--------------+---------------+-----------------+----------------+--------------+----------------+--------------+\n",
      "only showing top 20 rows\n",
      "\n"
     ]
    }
   ],
   "source": [
    "temp2.show()"
   ]
  },
  {
   "cell_type": "code",
   "execution_count": 66,
   "metadata": {},
   "outputs": [
    {
     "name": "stderr",
     "output_type": "stream",
     "text": [
      "23/09/30 18:22:02 WARN TaskSetManager: Stage 37 contains a task of very large size (16946 KiB). The maximum recommended task size is 1000 KiB.\n",
      "23/09/30 18:22:04 WARN TaskSetManager: Stage 38 contains a task of very large size (6901 KiB). The maximum recommended task size is 1000 KiB.\n",
      "                                                                                \r"
     ]
    },
    {
     "data": {
      "text/plain": [
       "461657"
      ]
     },
     "execution_count": 66,
     "metadata": {},
     "output_type": "execute_result"
    }
   ],
   "source": [
    "temp2.count()"
   ]
  },
  {
   "cell_type": "code",
   "execution_count": 67,
   "metadata": {},
   "outputs": [
    {
     "name": "stderr",
     "output_type": "stream",
     "text": [
      "23/09/30 18:22:09 WARN TaskSetManager: Stage 54 contains a task of very large size (16946 KiB). The maximum recommended task size is 1000 KiB.\n",
      "23/09/30 18:22:10 WARN TaskSetManager: Stage 55 contains a task of very large size (6901 KiB). The maximum recommended task size is 1000 KiB.\n",
      "[Stage 59:>                 (0 + 4) / 4][Stage 61:>                 (0 + 0) / 1]\r"
     ]
    },
    {
     "name": "stdout",
     "output_type": "stream",
     "text": [
      "+------+------------------+-----------+------------------+\n",
      "|SiteId|             Value|Temperature|           Surface|\n",
      "+------+------------------+-----------+------------------+\n",
      "|    26|367090.93201896665|       11.0|14.884534437442198|\n",
      "|    26| 380214.5218407182|       9.95|14.884534437442198|\n",
      "|    26| 369513.9853800378|       9.35|14.884534437442198|\n",
      "|    26|356623.18967688765|        9.0|14.884534437442198|\n",
      "|    26| 440533.8594959018|       13.0|14.884534437442198|\n",
      "|    26|  423050.172770459|       12.0|14.884534437442198|\n",
      "|    26| 422010.9196915024|      11.75|14.884534437442198|\n",
      "|    26|187789.09143120135|       11.9|14.884534437442198|\n",
      "|    26|205557.23649427813|       10.2|14.884534437442198|\n",
      "|    26| 501100.9055731932|      15.25|14.884534437442198|\n",
      "|    26| 416228.3376006938|       16.9|14.884534437442198|\n",
      "|    26|286919.43586505123|       12.7|14.884534437442198|\n",
      "|    26|177929.62047344298|        9.9|14.884534437442198|\n",
      "|    26|371317.08299725526|       11.0|14.884534437442198|\n",
      "|    26| 528557.1559490501|       12.6|14.884534437442198|\n",
      "|    26| 408319.9314169953|       13.0|14.884534437442198|\n",
      "|    26|283132.34888359834|       12.9|14.884534437442198|\n",
      "|    26| 190720.4218742424|       13.0|14.884534437442198|\n",
      "|    26|194195.93089631625|       13.0|14.884534437442198|\n",
      "|    26| 433328.9112942513|       10.0|14.884534437442198|\n",
      "+------+------------------+-----------+------------------+\n",
      "only showing top 20 rows\n",
      "\n"
     ]
    },
    {
     "name": "stderr",
     "output_type": "stream",
     "text": [
      "                                                                                \r"
     ]
    }
   ],
   "source": [
    "energy_data = temp2[['SiteId', 'Value', 'Temperature', 'Surface']]\n",
    "energy_data.show()"
   ]
  },
  {
   "cell_type": "code",
   "execution_count": null,
   "metadata": {},
   "outputs": [],
   "source": [
    "df_categorizado = df.withColumn(\n",
    "    \"Categoria\",\n",
    "    when(df[\"Edad\"] < 30, \"Joven\")\n",
    "    .when((df[\"Edad\"] >= 30) & (df[\"Edad\"] < 40), \"Adulto\")\n",
    "    .when((df[\"Edad\"] >= 40) & (df[\"Edad\"] < 50), \"Mediana Edad\")\n",
    "    .when(df[\"Edad\"] >= 50, \"Mayor\")\n",
    ")"
   ]
  },
  {
   "cell_type": "code",
   "execution_count": null,
   "metadata": {},
   "outputs": [],
   "source": [
    "energy_data_categoria=energy_data.withColumn(\"Categoria_surface\",\n",
    "                                             when(energy_data[\"Surface\"]<(max('Surface')-min('surface')/3)))"
   ]
  },
  {
   "cell_type": "code",
   "execution_count": null,
   "metadata": {},
   "outputs": [],
   "source": []
  },
  {
   "cell_type": "code",
   "execution_count": null,
   "metadata": {},
   "outputs": [],
   "source": []
  }
 ],
 "metadata": {
  "kernelspec": {
   "display_name": "Python 3",
   "language": "python",
   "name": "python3"
  },
  "language_info": {
   "codemirror_mode": {
    "name": "ipython",
    "version": 3
   },
   "file_extension": ".py",
   "mimetype": "text/x-python",
   "name": "python",
   "nbconvert_exporter": "python",
   "pygments_lexer": "ipython3",
   "version": "3.10.8"
  },
  "orig_nbformat": 4
 },
 "nbformat": 4,
 "nbformat_minor": 2
}
