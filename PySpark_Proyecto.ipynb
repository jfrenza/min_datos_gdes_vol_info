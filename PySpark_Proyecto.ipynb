{
 "cells": [
  {
   "cell_type": "code",
   "execution_count": 2,
   "metadata": {},
   "outputs": [
    {
     "name": "stdout",
     "output_type": "stream",
     "text": [
      "energy-data/power-laws-forecasting-energy-consumption-holidays.csv\n",
      "energy-data/power-laws-forecasting-energy-consumption-metadata.csv\n",
      "energy-data/power-laws-forecasting-energy-consumption-submission-forecast-period.csv\n",
      "energy-data/power-laws-forecasting-energy-consumption-test-data.csv\n",
      "energy-data/power-laws-forecasting-energy-consumption-training-data.csv\n",
      "energy-data/power-laws-forecasting-energy-consumption-weather.csv\n"
     ]
    }
   ],
   "source": [
    "from project import data_frames\n",
    "\n",
    "for key, values in data_frames.items():\n",
    "    print(key)"
   ]
  }
 ],
 "metadata": {
  "kernelspec": {
   "display_name": "Python 3",
   "language": "python",
   "name": "python3"
  },
  "language_info": {
   "codemirror_mode": {
    "name": "ipython",
    "version": 3
   },
   "file_extension": ".py",
   "mimetype": "text/x-python",
   "name": "python",
   "nbconvert_exporter": "python",
   "pygments_lexer": "ipython3",
   "version": "3.10.8"
  },
  "orig_nbformat": 4
 },
 "nbformat": 4,
 "nbformat_minor": 2
}
